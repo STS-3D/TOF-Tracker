{
 "cells": [
  {
   "cell_type": "code",
   "execution_count": null,
   "id": "197f601d-2e72-41f7-a07b-70c1e2adb10b",
   "metadata": {},
   "outputs": [],
   "source": [
    "import time\n",
    "import serial\n",
    "import json\n",
    "import numpy as np\n",
    "import os\n",
    "import math\n",
    "import matplotlib.pyplot as plt\n",
    "#from mpl_toolkits.mplot3d import Axe3D\n",
    "\n",
    "from IPython import display\n",
    "\n",
    "import requests"
   ]
  },
  {
   "cell_type": "code",
   "execution_count": null,
   "id": "bce83a5b-6d1a-481c-b2e1-18b0b52fde4d",
   "metadata": {},
   "outputs": [],
   "source": []
  },
  {
   "cell_type": "code",
   "execution_count": null,
   "id": "5a8acad9-2bc8-44c6-9a23-4d6cc88947f2",
   "metadata": {},
   "outputs": [],
   "source": [
    "\n",
    "base_url = 'http://YOUR_ESP32_LOCAL_IP_ADDRESS'\n",
    "\n",
    "\n",
    "def home(motor_name):\n",
    "    home_url = os.path.join(base_url, f'home?motor_name={motor_name}')\n",
    "    print(home_url)\n",
    "    resp = requests.get(home_url)\n",
    "    print(resp)\n",
    "\n",
    "def display_data(display_toggle):\n",
    "    url = os.path.join(base_url, f'display_data?display_toggle={display_toggle}')\n",
    "    print(url)\n",
    "    resp = requests.get(url)\n",
    "    print(resp)\n",
    "\n",
    "def keep_distance(toggle):\n",
    "    url = os.path.join(base_url, f'keep_range?toggle_val={toggle}')\n",
    "    print(url)\n",
    "    resp = requests.get(url)\n",
    "    print(resp)\n",
    "\n",
    "def track_target(toggle):\n",
    "    url = os.path.join(base_url, f'track_target?run_track_targte={toggle}')\n",
    "    print(url)\n",
    "    resp = requests.get(url)\n",
    "    print(resp)\n",
    "\n",
    "def run_move(position : float, motor: str):\n",
    "    url = os.path.join(base_url, f'run_move?position={position}&motor={motor}')\n",
    "    print(url)\n",
    "    resp = requests.get(url)\n",
    "    print(resp)\n",
    "\n",
    "def run_yaw_move(angle):\n",
    "    \n",
    "    url = os.path.join(base_url, f'run_yaw_move?angle={angle}')\n",
    "    print(url)\n",
    "    resp = requests.get(url)\n",
    "    print(resp)\n",
    "\n",
    "def keep_angle(toggle):\n",
    "    url = os.path.join(base_url, f'keep_angle?toggle_val={toggle}')\n",
    "    print(url)\n",
    "    resp = requests.get(url)\n",
    "    print(resp)\n",
    "\n",
    "def update_motor_settings(motor=None, args_json=None):\n",
    "    ''' update motor settings '''\n",
    "    settings_args = '&'.join([f'{k}={v}' for k,v in args_json.items()])\n",
    "    motor_arg = f'update_motor_settings?motor={motor}'\n",
    "    endpoint = f'{motor_arg}&{settings_args}'\n",
    "    \n",
    "    url = os.path.join(base_url, endpoint)\n",
    "    print(url)\n",
    "    resp = requests.get(url)\n",
    "    print(resp)\n",
    "\n",
    "def update_global_settings(args_json=None):\n",
    "    ''' update global settings '''\n",
    "    settings_args = '&'.join([f'{k}={v}' for k,v in args_json.items()]).strip('&')\n",
    "    endpoint = f'update_global_settings?{settings_args}'\n",
    "    url = os.path.join(base_url, endpoint)\n",
    "    print(url)\n",
    "    resp = requests.get(url)\n",
    "    print(resp)\n",
    "\n",
    "\n",
    "\n",
    "\n",
    "def calculate_y_len(angle_degrees, short_linkage=36, long_linkage=50):\n",
    "    '''calculate the unknown side length for a given sensor angle'''\n",
    "\n",
    "    angle_degrees = 90 - angle_degrees\n",
    "    \n",
    "    # Convert angle from degrees to radians\n",
    "    angle_radians = math.radians(angle_degrees)\n",
    "    \n",
    "    # Calculate the length of leg A using the cosine of the angle\n",
    "    short_len_a = short_linkage * math.cos(angle_radians)\n",
    "    \n",
    "    # Calculate the length of leg B using the sine of the angle\n",
    "    # first triangle height\n",
    "    b = short_linkage * math.sin(angle_radians)\n",
    "\n",
    "    # length along y axist\n",
    "    long_len_a = math.sqrt(long_linkage**2 - b**2)\n",
    "    \n",
    "    return short_len_a + long_len_a\n",
    "    \n",
    "\n"
   ]
  },
  {
   "cell_type": "code",
   "execution_count": null,
   "id": "5d627906-ba38-4241-ade4-71f703e9c80c",
   "metadata": {},
   "outputs": [],
   "source": [
    "\n",
    "laser_val = 0\n",
    "display_data_val = 0\n",
    "keep_angle_val = 0"
   ]
  },
  {
   "cell_type": "code",
   "execution_count": null,
   "id": "bda9ab45-e8e8-491d-9f4b-ea4f3272c6fb",
   "metadata": {},
   "outputs": [],
   "source": [
    "\n",
    "laser_val = int(laser_val != 1)\n",
    "update_global_settings({'laser_state': laser_val})"
   ]
  },
  {
   "cell_type": "code",
   "execution_count": null,
   "id": "28886a15-2a7e-43fe-86f1-69d44f0c6d22",
   "metadata": {},
   "outputs": [],
   "source": [
    "#home('m_yaw')"
   ]
  },
  {
   "cell_type": "code",
   "execution_count": null,
   "id": "bcb9103e-4bad-4485-a39b-11c1a031c811",
   "metadata": {},
   "outputs": [],
   "source": [
    "\n",
    "home('m_tof')"
   ]
  },
  {
   "cell_type": "code",
   "execution_count": null,
   "id": "97dc64a1-2574-47a5-93fa-083c3db6902f",
   "metadata": {},
   "outputs": [],
   "source": [
    "\n",
    "update_motor_settings('m_tof', {'speed': 10, 'accel': 400})"
   ]
  },
  {
   "cell_type": "code",
   "execution_count": null,
   "id": "9ef3138b-4151-431e-9d69-0e8eb56fe963",
   "metadata": {},
   "outputs": [],
   "source": [
    "tof_ang = 10\n",
    "update_global_settings({'tof_angle': tof_ang})"
   ]
  },
  {
   "cell_type": "code",
   "execution_count": null,
   "id": "77de4302-645d-4bdf-985b-f269a92ba1c1",
   "metadata": {},
   "outputs": [],
   "source": [
    "home('m_yaw')"
   ]
  },
  {
   "cell_type": "code",
   "execution_count": null,
   "id": "ae340725-8e30-4762-a5d5-ffc247ad05f6",
   "metadata": {},
   "outputs": [],
   "source": [
    "#update_motor_settings('m_yaw', {'speed': 50, 'accel': 400})\n",
    "#run_move(90,'m_yaw')"
   ]
  },
  {
   "cell_type": "code",
   "execution_count": null,
   "id": "294a2626-50bf-4c70-a5af-f17251748a3f",
   "metadata": {},
   "outputs": [],
   "source": [
    "#home('m_tof')"
   ]
  },
  {
   "cell_type": "code",
   "execution_count": null,
   "id": "fd03be82-9d81-4480-9459-b60494ada366",
   "metadata": {},
   "outputs": [],
   "source": [
    "#tof_ang = -25\n",
    "#update_global_settings({'tof_angle': tof_ang})"
   ]
  },
  {
   "cell_type": "code",
   "execution_count": null,
   "id": "bed72c85-b9da-429d-9315-7fce85d6c440",
   "metadata": {},
   "outputs": [],
   "source": [
    "#tof_ang = 25\n",
    "#update_global_settings({'tof_angle': tof_ang})"
   ]
  },
  {
   "cell_type": "code",
   "execution_count": null,
   "id": "e2904680-9562-4251-841f-502fad3912cb",
   "metadata": {},
   "outputs": [],
   "source": [
    "#run_move(0,'m_yaw')"
   ]
  },
  {
   "cell_type": "code",
   "execution_count": null,
   "id": "b7c4f83d-e7a0-4392-8307-d118b8e438f5",
   "metadata": {},
   "outputs": [],
   "source": [
    "#tof_ang = 10\n",
    "#update_global_settings({'tof_angle': tof_ang})"
   ]
  },
  {
   "cell_type": "code",
   "execution_count": null,
   "id": "07ec5c19-6bcc-449d-a045-12dc156b7f7a",
   "metadata": {},
   "outputs": [],
   "source": [
    "home('m_y')"
   ]
  },
  {
   "cell_type": "code",
   "execution_count": null,
   "id": "86b64fdd-5d2a-4b32-8772-2e62c7a6ff92",
   "metadata": {},
   "outputs": [],
   "source": [
    "\n",
    "update_global_settings({'y_target_dist': 450})"
   ]
  },
  {
   "cell_type": "code",
   "execution_count": null,
   "id": "87af9a0d-186d-4433-ac96-298341f07ad1",
   "metadata": {},
   "outputs": [],
   "source": [
    "\n",
    "update_motor_settings('m_y', {'kp': 1, 'ki': .00001,'kd': .00, 'accel': 600})"
   ]
  },
  {
   "cell_type": "code",
   "execution_count": null,
   "id": "48faf3de-3d01-4c1e-b21a-b06aa1b23957",
   "metadata": {},
   "outputs": [],
   "source": [
    "\n",
    "update_motor_settings('m_yaw', {'kp': 1.6, 'ki': .002,'kd': .01, 'accel': 600})"
   ]
  },
  {
   "cell_type": "code",
   "execution_count": null,
   "id": "158c1b97-2e26-463f-8a45-cd0b3948a85b",
   "metadata": {},
   "outputs": [],
   "source": []
  },
  {
   "cell_type": "code",
   "execution_count": null,
   "id": "4643d9de-ca74-42de-b662-a5fcf69c677d",
   "metadata": {},
   "outputs": [],
   "source": [
    "\n",
    "update_motor_settings('m_yaw', {'speed': 30})\n",
    "run_move(30,'m_yaw')\n"
   ]
  },
  {
   "cell_type": "code",
   "execution_count": null,
   "id": "ba529175-6d99-44a0-8fdb-d5ee3c9cb4ab",
   "metadata": {},
   "outputs": [],
   "source": [
    "# keep angle\n",
    "keep_angle_val = int(keep_angle_val != 1)\n",
    "keep_angle(keep_angle_val)"
   ]
  },
  {
   "cell_type": "code",
   "execution_count": null,
   "id": "eec545d1-3c1d-4217-a924-81199e2972c7",
   "metadata": {},
   "outputs": [],
   "source": [
    "\n",
    "display_data_val = int(display_data_val != 1)\n",
    "display_data(display_data_val)"
   ]
  }
 ],
 "metadata": {
  "kernelspec": {
   "display_name": "Python 3 (ipykernel)",
   "language": "python",
   "name": "python3"
  },
  "language_info": {
   "codemirror_mode": {
    "name": "ipython",
    "version": 3
   },
   "file_extension": ".py",
   "mimetype": "text/x-python",
   "name": "python",
   "nbconvert_exporter": "python",
   "pygments_lexer": "ipython3",
   "version": "3.11.0"
  }
 },
 "nbformat": 4,
 "nbformat_minor": 5
}
